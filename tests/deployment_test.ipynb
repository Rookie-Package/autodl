{
 "cells": [
  {
   "cell_type": "code",
   "execution_count": 1,
   "metadata": {},
   "outputs": [
    {
     "name": "stdout",
     "output_type": "stream",
     "text": [
      "{\"code\":\"RecordNotFoundError\",\"data\":null,\"msg\":\"私有镜像不存在\"}\n"
     ]
    }
   ],
   "source": [
    "import requests\n",
    "headers = {\n",
    "    \"Authorization\": open('../.autodl_token', 'r').read(),\n",
    "    \"Content-Type\": \"application/json\"\n",
    "}\n",
    "url = \"https://api.autodl.com/api/v1/dev/deployment\"\n",
    "\n",
    "# 创建ReplicaSet类型部署\n",
    "body = {\n",
    "    \"name\": \"api自动创建\",\n",
    "    \"deployment_type\": \"ReplicaSet\",\n",
    "    \"replica_num\": 2,\n",
    "    \"reuse_container\": True,\n",
    "    \"container_template\": {\n",
    "        \"dc_list\": [\"westDC2\", \"westDC3\"],\n",
    "        \"gpu_name_set\": [\"RTX 4090\"],\n",
    "        \"gpu_num\": 1,\n",
    "        \"cuda_v_from\": 113,\n",
    "        \"cuda_v_to\": 128,\n",
    "        \"cpu_num_from\": 1,\n",
    "        \"cpu_num_to\": 100,\n",
    "        \"memory_size_from\": 1,\n",
    "        \"memory_size_to\": 256,\n",
    "        \"cmd\": \"sleep 100\",\n",
    "        \"price_from\": 10,\n",
    "        \"price_to\": 9000,\n",
    "        \"image_uuid\": \"image-db8346e037\",\n",
    "    },\n",
    "}\n",
    "response = requests.post(url, json=body, headers=headers)\n",
    "print(response.content.decode())"
   ]
  },
  {
   "cell_type": "code",
   "execution_count": null,
   "metadata": {},
   "outputs": [],
   "source": []
  }
 ],
 "metadata": {
  "kernelspec": {
   "display_name": "hq_det",
   "language": "python",
   "name": "python3"
  },
  "language_info": {
   "codemirror_mode": {
    "name": "ipython",
    "version": 3
   },
   "file_extension": ".py",
   "mimetype": "text/x-python",
   "name": "python",
   "nbconvert_exporter": "python",
   "pygments_lexer": "ipython3",
   "version": "3.9.21"
  }
 },
 "nbformat": 4,
 "nbformat_minor": 2
}
