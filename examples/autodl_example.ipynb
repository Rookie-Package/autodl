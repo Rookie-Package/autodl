{
 "cells": [
  {
   "cell_type": "markdown",
   "metadata": {},
   "source": [
    "# autodl example"
   ]
  },
  {
   "cell_type": "markdown",
   "metadata": {},
   "source": [
    "## 1. 创建客户端"
   ]
  },
  {
   "cell_type": "code",
   "execution_count": 1,
   "metadata": {},
   "outputs": [],
   "source": [
    "import pandas as pd\n",
    "import autodl"
   ]
  },
  {
   "cell_type": "code",
   "execution_count": 2,
   "metadata": {},
   "outputs": [],
   "source": [
    "token = open('../.autodl_token', 'r').read()\n",
    "client = autodl.AutoDLElasticDeployment(token)"
   ]
  },
  {
   "cell_type": "markdown",
   "metadata": {},
   "source": [
    "## 2. 获取私有镜像列表"
   ]
  },
  {
   "cell_type": "code",
   "execution_count": 3,
   "metadata": {},
   "outputs": [
    {
     "data": {
      "text/html": [
       "<div>\n",
       "<style scoped>\n",
       "    .dataframe tbody tr th:only-of-type {\n",
       "        vertical-align: middle;\n",
       "    }\n",
       "\n",
       "    .dataframe tbody tr th {\n",
       "        vertical-align: top;\n",
       "    }\n",
       "\n",
       "    .dataframe thead th {\n",
       "        text-align: right;\n",
       "    }\n",
       "</style>\n",
       "<table border=\"1\" class=\"dataframe\">\n",
       "  <thead>\n",
       "    <tr style=\"text-align: right;\">\n",
       "      <th></th>\n",
       "      <th>id</th>\n",
       "      <th>image_name</th>\n",
       "      <th>image_uuid</th>\n",
       "    </tr>\n",
       "  </thead>\n",
       "  <tbody>\n",
       "    <tr>\n",
       "      <th>0</th>\n",
       "      <td>549274</td>\n",
       "      <td>hq_det</td>\n",
       "      <td>image-8663c9b91d</td>\n",
       "    </tr>\n",
       "    <tr>\n",
       "      <th>1</th>\n",
       "      <td>541913</td>\n",
       "      <td>vla-0521-idp3</td>\n",
       "      <td>image-4af49d99fe</td>\n",
       "    </tr>\n",
       "  </tbody>\n",
       "</table>\n",
       "</div>"
      ],
      "text/plain": [
       "       id     image_name        image_uuid\n",
       "0  549274         hq_det  image-8663c9b91d\n",
       "1  541913  vla-0521-idp3  image-4af49d99fe"
      ]
     },
     "execution_count": 3,
     "metadata": {},
     "output_type": "execute_result"
    }
   ],
   "source": [
    "images = client.get_images(page_index=1, page_size=10)\n",
    "pd.DataFrame(images)"
   ]
  },
  {
   "cell_type": "markdown",
   "metadata": {},
   "source": [
    "## 3. 获取当前部署列表"
   ]
  },
  {
   "cell_type": "code",
   "execution_count": 4,
   "metadata": {},
   "outputs": [
    {
     "data": {
      "text/html": [
       "<div>\n",
       "<style scoped>\n",
       "    .dataframe tbody tr th:only-of-type {\n",
       "        vertical-align: middle;\n",
       "    }\n",
       "\n",
       "    .dataframe tbody tr th {\n",
       "        vertical-align: top;\n",
       "    }\n",
       "\n",
       "    .dataframe thead th {\n",
       "        text-align: right;\n",
       "    }\n",
       "</style>\n",
       "<table border=\"1\" class=\"dataframe\">\n",
       "  <thead>\n",
       "    <tr style=\"text-align: right;\">\n",
       "      <th></th>\n",
       "      <th>id</th>\n",
       "      <th>uid</th>\n",
       "      <th>uuid</th>\n",
       "      <th>name</th>\n",
       "      <th>deployment_type</th>\n",
       "      <th>status</th>\n",
       "      <th>region_sign</th>\n",
       "      <th>dc_list</th>\n",
       "      <th>gpu_name_set</th>\n",
       "      <th>created_at</th>\n",
       "    </tr>\n",
       "  </thead>\n",
       "  <tbody>\n",
       "    <tr>\n",
       "      <th>0</th>\n",
       "      <td>2459239</td>\n",
       "      <td>673024</td>\n",
       "      <td>cdb3170133</td>\n",
       "      <td>API测试部署</td>\n",
       "      <td>ReplicaSet</td>\n",
       "      <td>running</td>\n",
       "      <td></td>\n",
       "      <td>[westDC2]</td>\n",
       "      <td>[RTX 4090]</td>\n",
       "      <td>2025-07-03T21:43:26+08:00</td>\n",
       "    </tr>\n",
       "    <tr>\n",
       "      <th>1</th>\n",
       "      <td>2459018</td>\n",
       "      <td>673024</td>\n",
       "      <td>c776a3a3a0</td>\n",
       "      <td>API测试部署</td>\n",
       "      <td>ReplicaSet</td>\n",
       "      <td>running</td>\n",
       "      <td></td>\n",
       "      <td>[westDC2]</td>\n",
       "      <td>[RTX 4090]</td>\n",
       "      <td>2025-07-03T20:37:47+08:00</td>\n",
       "    </tr>\n",
       "  </tbody>\n",
       "</table>\n",
       "</div>"
      ],
      "text/plain": [
       "        id     uid        uuid     name deployment_type   status region_sign  \\\n",
       "0  2459239  673024  cdb3170133  API测试部署      ReplicaSet  running               \n",
       "1  2459018  673024  c776a3a3a0  API测试部署      ReplicaSet  running               \n",
       "\n",
       "     dc_list gpu_name_set                 created_at  \n",
       "0  [westDC2]   [RTX 4090]  2025-07-03T21:43:26+08:00  \n",
       "1  [westDC2]   [RTX 4090]  2025-07-03T20:37:47+08:00  "
      ]
     },
     "execution_count": 4,
     "metadata": {},
     "output_type": "execute_result"
    }
   ],
   "source": [
    "deployments = client.get_deployments()\n",
    "pd.DataFrame(deployments)"
   ]
  },
  {
   "cell_type": "markdown",
   "metadata": {},
   "source": [
    "## 4. 获取GPU库存"
   ]
  },
  {
   "cell_type": "code",
   "execution_count": 5,
   "metadata": {},
   "outputs": [
    {
     "data": {
      "text/html": [
       "<div>\n",
       "<style scoped>\n",
       "    .dataframe tbody tr th:only-of-type {\n",
       "        vertical-align: middle;\n",
       "    }\n",
       "\n",
       "    .dataframe tbody tr th {\n",
       "        vertical-align: top;\n",
       "    }\n",
       "\n",
       "    .dataframe thead th {\n",
       "        text-align: right;\n",
       "    }\n",
       "</style>\n",
       "<table border=\"1\" class=\"dataframe\">\n",
       "  <thead>\n",
       "    <tr style=\"text-align: right;\">\n",
       "      <th></th>\n",
       "      <th>gpu_type</th>\n",
       "      <th>total_gpu_num</th>\n",
       "      <th>idle_gpu_num</th>\n",
       "      <th>chip_corp</th>\n",
       "      <th>cpu_arch</th>\n",
       "    </tr>\n",
       "  </thead>\n",
       "  <tbody>\n",
       "    <tr>\n",
       "      <th>0</th>\n",
       "      <td>vGPU-32GB</td>\n",
       "      <td>306</td>\n",
       "      <td>131</td>\n",
       "      <td>nvidia</td>\n",
       "      <td>x86</td>\n",
       "    </tr>\n",
       "    <tr>\n",
       "      <th>1</th>\n",
       "      <td>vGPU-48GB</td>\n",
       "      <td>56</td>\n",
       "      <td>6</td>\n",
       "      <td>nvidia</td>\n",
       "      <td>x86</td>\n",
       "    </tr>\n",
       "    <tr>\n",
       "      <th>2</th>\n",
       "      <td>RTX 4090D</td>\n",
       "      <td>300</td>\n",
       "      <td>35</td>\n",
       "      <td>nvidia</td>\n",
       "      <td>x86</td>\n",
       "    </tr>\n",
       "    <tr>\n",
       "      <th>3</th>\n",
       "      <td>RTX 4090</td>\n",
       "      <td>483</td>\n",
       "      <td>69</td>\n",
       "      <td>nvidia</td>\n",
       "      <td>x86</td>\n",
       "    </tr>\n",
       "    <tr>\n",
       "      <th>4</th>\n",
       "      <td>RTX 3090</td>\n",
       "      <td>168</td>\n",
       "      <td>5</td>\n",
       "      <td>nvidia</td>\n",
       "      <td>x86</td>\n",
       "    </tr>\n",
       "    <tr>\n",
       "      <th>5</th>\n",
       "      <td>RTX 3080x2</td>\n",
       "      <td>40</td>\n",
       "      <td>6</td>\n",
       "      <td>nvidia</td>\n",
       "      <td>x86</td>\n",
       "    </tr>\n",
       "  </tbody>\n",
       "</table>\n",
       "</div>"
      ],
      "text/plain": [
       "     gpu_type  total_gpu_num  idle_gpu_num chip_corp cpu_arch\n",
       "0   vGPU-32GB            306           131    nvidia      x86\n",
       "1   vGPU-48GB             56             6    nvidia      x86\n",
       "2   RTX 4090D            300            35    nvidia      x86\n",
       "3    RTX 4090            483            69    nvidia      x86\n",
       "4    RTX 3090            168             5    nvidia      x86\n",
       "5  RTX 3080x2             40             6    nvidia      x86"
      ]
     },
     "execution_count": 5,
     "metadata": {},
     "output_type": "execute_result"
    }
   ],
   "source": [
    "# 获取西北企业区GPU库存 (CUDA 11.8)\n",
    "region_sign = autodl.AutoDLConstants.REGIONS[\"西北企业区(推荐)\"]\n",
    "stock = client.get_gpu_stock(region_sign, 118)\n",
    "pd.DataFrame(stock)"
   ]
  },
  {
   "cell_type": "markdown",
   "metadata": {},
   "source": [
    "## 5. 创建部署"
   ]
  },
  {
   "cell_type": "code",
   "execution_count": 6,
   "metadata": {},
   "outputs": [
    {
     "data": {
      "text/plain": [
       "'cdb3170133'"
      ]
     },
     "execution_count": 6,
     "metadata": {},
     "output_type": "execute_result"
    }
   ],
   "source": [
    "deployment_uuid =client.create_replicaset_deployment(\n",
    "    name='API测试部署',\n",
    "    image_uuid=autodl.AutoDLConstants.BASE_IMAGES['PyTorch 2.0.0 (CUDA 11.8)'],\n",
    "    gpu_name_set=['RTX 4090'],\n",
    "    replica_num=1,\n",
    "    gpu_num=1,\n",
    "    cpu_num_from=1,\n",
    "    cpu_num_to=100,\n",
    "    memory_size_from=1,\n",
    "    memory_size_to=256,\n",
    "    dc_list=['westDC2'],\n",
    "    cuda_v_from=118,\n",
    "    cmd='jupyter lab --ip=0.0.0.0 --port=8888 --no-browser --allow-root',\n",
    "    env_vars={'JUPYTER_TOKEN': 'test123'},\n",
    "    price_from=10,\n",
    "    price_to=9000,\n",
    "    reuse_container=True\n",
    ")\n",
    "deployment_uuid"
   ]
  },
  {
   "cell_type": "markdown",
   "metadata": {},
   "source": [
    "## 6. 管理部署容器"
   ]
  },
  {
   "cell_type": "markdown",
   "metadata": {},
   "source": [
    "### 获取部署列表"
   ]
  },
  {
   "cell_type": "code",
   "execution_count": 7,
   "metadata": {},
   "outputs": [],
   "source": [
    "deployments = client.get_deployments()"
   ]
  },
  {
   "cell_type": "code",
   "execution_count": 8,
   "metadata": {},
   "outputs": [
    {
     "data": {
      "text/html": [
       "<div>\n",
       "<style scoped>\n",
       "    .dataframe tbody tr th:only-of-type {\n",
       "        vertical-align: middle;\n",
       "    }\n",
       "\n",
       "    .dataframe tbody tr th {\n",
       "        vertical-align: top;\n",
       "    }\n",
       "\n",
       "    .dataframe thead th {\n",
       "        text-align: right;\n",
       "    }\n",
       "</style>\n",
       "<table border=\"1\" class=\"dataframe\">\n",
       "  <thead>\n",
       "    <tr style=\"text-align: right;\">\n",
       "      <th></th>\n",
       "      <th>id</th>\n",
       "      <th>uid</th>\n",
       "      <th>uuid</th>\n",
       "      <th>name</th>\n",
       "      <th>deployment_type</th>\n",
       "      <th>status</th>\n",
       "      <th>region_sign</th>\n",
       "      <th>dc_list</th>\n",
       "      <th>gpu_name_set</th>\n",
       "      <th>created_at</th>\n",
       "    </tr>\n",
       "  </thead>\n",
       "  <tbody>\n",
       "    <tr>\n",
       "      <th>0</th>\n",
       "      <td>2459239</td>\n",
       "      <td>673024</td>\n",
       "      <td>cdb3170133</td>\n",
       "      <td>API测试部署</td>\n",
       "      <td>ReplicaSet</td>\n",
       "      <td>running</td>\n",
       "      <td></td>\n",
       "      <td>[westDC2]</td>\n",
       "      <td>[RTX 4090]</td>\n",
       "      <td>2025-07-03T21:43:26+08:00</td>\n",
       "    </tr>\n",
       "    <tr>\n",
       "      <th>1</th>\n",
       "      <td>2459018</td>\n",
       "      <td>673024</td>\n",
       "      <td>c776a3a3a0</td>\n",
       "      <td>API测试部署</td>\n",
       "      <td>ReplicaSet</td>\n",
       "      <td>running</td>\n",
       "      <td></td>\n",
       "      <td>[westDC2]</td>\n",
       "      <td>[RTX 4090]</td>\n",
       "      <td>2025-07-03T20:37:47+08:00</td>\n",
       "    </tr>\n",
       "    <tr>\n",
       "      <th>2</th>\n",
       "      <td>2459008</td>\n",
       "      <td>673024</td>\n",
       "      <td>8d358fbd8c</td>\n",
       "      <td>API测试部署</td>\n",
       "      <td>ReplicaSet</td>\n",
       "      <td>running</td>\n",
       "      <td></td>\n",
       "      <td>[westDC2]</td>\n",
       "      <td>[RTX 4090]</td>\n",
       "      <td>2025-07-03T20:35:16+08:00</td>\n",
       "    </tr>\n",
       "  </tbody>\n",
       "</table>\n",
       "</div>"
      ],
      "text/plain": [
       "        id     uid        uuid     name deployment_type   status region_sign  \\\n",
       "0  2459239  673024  cdb3170133  API测试部署      ReplicaSet  running               \n",
       "1  2459018  673024  c776a3a3a0  API测试部署      ReplicaSet  running               \n",
       "2  2459008  673024  8d358fbd8c  API测试部署      ReplicaSet  running               \n",
       "\n",
       "     dc_list gpu_name_set                 created_at  \n",
       "0  [westDC2]   [RTX 4090]  2025-07-03T21:43:26+08:00  \n",
       "1  [westDC2]   [RTX 4090]  2025-07-03T20:37:47+08:00  \n",
       "2  [westDC2]   [RTX 4090]  2025-07-03T20:35:16+08:00  "
      ]
     },
     "execution_count": 8,
     "metadata": {},
     "output_type": "execute_result"
    }
   ],
   "source": [
    "pd.DataFrame(deployments)"
   ]
  },
  {
   "cell_type": "code",
   "execution_count": 9,
   "metadata": {},
   "outputs": [
    {
     "data": {
      "text/plain": [
       "['cdb3170133', 'c776a3a3a0', '8d358fbd8c']"
      ]
     },
     "execution_count": 9,
     "metadata": {},
     "output_type": "execute_result"
    }
   ],
   "source": [
    "deployment_uuids = [deployment['uuid'] for deployment in deployments]\n",
    "deployment_uuids"
   ]
  },
  {
   "cell_type": "markdown",
   "metadata": {},
   "source": [
    "### 查询容器事件"
   ]
  },
  {
   "cell_type": "code",
   "execution_count": 10,
   "metadata": {},
   "outputs": [
    {
     "data": {
      "text/html": [
       "<div>\n",
       "<style scoped>\n",
       "    .dataframe tbody tr th:only-of-type {\n",
       "        vertical-align: middle;\n",
       "    }\n",
       "\n",
       "    .dataframe tbody tr th {\n",
       "        vertical-align: top;\n",
       "    }\n",
       "\n",
       "    .dataframe thead th {\n",
       "        text-align: right;\n",
       "    }\n",
       "</style>\n",
       "<table border=\"1\" class=\"dataframe\">\n",
       "  <thead>\n",
       "    <tr style=\"text-align: right;\">\n",
       "      <th></th>\n",
       "      <th>deployment_container_uuid</th>\n",
       "      <th>status</th>\n",
       "      <th>created_at</th>\n",
       "    </tr>\n",
       "  </thead>\n",
       "  <tbody>\n",
       "    <tr>\n",
       "      <th>0</th>\n",
       "      <td>5dec112cb6-314744b79a-f1156c1ed8-32bdb0791</td>\n",
       "      <td>running</td>\n",
       "      <td>2025-07-03T20:35:20+08:00</td>\n",
       "    </tr>\n",
       "    <tr>\n",
       "      <th>1</th>\n",
       "      <td>5dec112cb6-314744b79a-f1156c1ed8-32bdb0791</td>\n",
       "      <td>starting</td>\n",
       "      <td>2025-07-03T20:35:17+08:00</td>\n",
       "    </tr>\n",
       "  </tbody>\n",
       "</table>\n",
       "</div>"
      ],
      "text/plain": [
       "                    deployment_container_uuid    status  \\\n",
       "0  5dec112cb6-314744b79a-f1156c1ed8-32bdb0791   running   \n",
       "1  5dec112cb6-314744b79a-f1156c1ed8-32bdb0791  starting   \n",
       "\n",
       "                  created_at  \n",
       "0  2025-07-03T20:35:20+08:00  \n",
       "1  2025-07-03T20:35:17+08:00  "
      ]
     },
     "metadata": {},
     "output_type": "display_data"
    }
   ],
   "source": [
    "query_container_events = client.query_container_events(deployment_uuids[-1])\n",
    "display(pd.DataFrame(query_container_events))"
   ]
  },
  {
   "cell_type": "markdown",
   "metadata": {},
   "source": [
    "### 查询容器"
   ]
  },
  {
   "cell_type": "code",
   "execution_count": 11,
   "metadata": {},
   "outputs": [
    {
     "data": {
      "text/html": [
       "<div>\n",
       "<style scoped>\n",
       "    .dataframe tbody tr th:only-of-type {\n",
       "        vertical-align: middle;\n",
       "    }\n",
       "\n",
       "    .dataframe tbody tr th {\n",
       "        vertical-align: top;\n",
       "    }\n",
       "\n",
       "    .dataframe thead th {\n",
       "        text-align: right;\n",
       "    }\n",
       "</style>\n",
       "<table border=\"1\" class=\"dataframe\">\n",
       "  <thead>\n",
       "    <tr style=\"text-align: right;\">\n",
       "      <th></th>\n",
       "      <th>list</th>\n",
       "      <th>page_index</th>\n",
       "      <th>page_size</th>\n",
       "      <th>offset</th>\n",
       "      <th>max_page</th>\n",
       "      <th>result_total</th>\n",
       "      <th>page</th>\n",
       "    </tr>\n",
       "  </thead>\n",
       "  <tbody>\n",
       "    <tr>\n",
       "      <th>0</th>\n",
       "      <td>{'id': 29174368, 'machine_id': '314744b79a', '...</td>\n",
       "      <td>1</td>\n",
       "      <td>100</td>\n",
       "      <td>0</td>\n",
       "      <td>1</td>\n",
       "      <td>1</td>\n",
       "      <td>1</td>\n",
       "    </tr>\n",
       "  </tbody>\n",
       "</table>\n",
       "</div>"
      ],
      "text/plain": [
       "                                                list  page_index  page_size  \\\n",
       "0  {'id': 29174368, 'machine_id': '314744b79a', '...           1        100   \n",
       "\n",
       "   offset  max_page  result_total  page  \n",
       "0       0         1             1     1  "
      ]
     },
     "execution_count": 11,
     "metadata": {},
     "output_type": "execute_result"
    }
   ],
   "source": [
    "containers = client.query_containers(deployment_uuids[-1])\n",
    "pd.DataFrame(containers)"
   ]
  },
  {
   "cell_type": "markdown",
   "metadata": {},
   "source": [
    "### 停止某容器"
   ]
  },
  {
   "cell_type": "code",
   "execution_count": 12,
   "metadata": {},
   "outputs": [
    {
     "data": {
      "text/plain": [
       "True"
      ]
     },
     "execution_count": 12,
     "metadata": {},
     "output_type": "execute_result"
    }
   ],
   "source": [
    "client.stop_deployment(deployment_uuids[-1])"
   ]
  },
  {
   "cell_type": "markdown",
   "metadata": {},
   "source": [
    "### 设置副本数量"
   ]
  },
  {
   "cell_type": "code",
   "execution_count": 13,
   "metadata": {},
   "outputs": [
    {
     "data": {
      "text/plain": [
       "True"
      ]
     },
     "execution_count": 13,
     "metadata": {},
     "output_type": "execute_result"
    }
   ],
   "source": [
    "client.set_replicas(deployment_uuids[-1], 2)"
   ]
  },
  {
   "cell_type": "markdown",
   "metadata": {},
   "source": [
    "### 停止部署"
   ]
  },
  {
   "cell_type": "code",
   "execution_count": 14,
   "metadata": {},
   "outputs": [
    {
     "data": {
      "text/plain": [
       "True"
      ]
     },
     "execution_count": 14,
     "metadata": {},
     "output_type": "execute_result"
    }
   ],
   "source": [
    "client.stop_deployment(deployment_uuids[-1])"
   ]
  },
  {
   "cell_type": "markdown",
   "metadata": {},
   "source": [
    "### 删除部署"
   ]
  },
  {
   "cell_type": "code",
   "execution_count": 15,
   "metadata": {},
   "outputs": [
    {
     "data": {
      "text/plain": [
       "True"
      ]
     },
     "execution_count": 15,
     "metadata": {},
     "output_type": "execute_result"
    }
   ],
   "source": [
    "client.delete_deployment(deployment_uuids[-1])"
   ]
  },
  {
   "cell_type": "code",
   "execution_count": 16,
   "metadata": {},
   "outputs": [
    {
     "data": {
      "text/html": [
       "<div>\n",
       "<style scoped>\n",
       "    .dataframe tbody tr th:only-of-type {\n",
       "        vertical-align: middle;\n",
       "    }\n",
       "\n",
       "    .dataframe tbody tr th {\n",
       "        vertical-align: top;\n",
       "    }\n",
       "\n",
       "    .dataframe thead th {\n",
       "        text-align: right;\n",
       "    }\n",
       "</style>\n",
       "<table border=\"1\" class=\"dataframe\">\n",
       "  <thead>\n",
       "    <tr style=\"text-align: right;\">\n",
       "      <th></th>\n",
       "      <th>id</th>\n",
       "      <th>uid</th>\n",
       "      <th>uuid</th>\n",
       "      <th>name</th>\n",
       "      <th>deployment_type</th>\n",
       "      <th>status</th>\n",
       "      <th>region_sign</th>\n",
       "      <th>dc_list</th>\n",
       "      <th>gpu_name_set</th>\n",
       "      <th>created_at</th>\n",
       "    </tr>\n",
       "  </thead>\n",
       "  <tbody>\n",
       "    <tr>\n",
       "      <th>0</th>\n",
       "      <td>2459239</td>\n",
       "      <td>673024</td>\n",
       "      <td>cdb3170133</td>\n",
       "      <td>API测试部署</td>\n",
       "      <td>ReplicaSet</td>\n",
       "      <td>running</td>\n",
       "      <td></td>\n",
       "      <td>[westDC2]</td>\n",
       "      <td>[RTX 4090]</td>\n",
       "      <td>2025-07-03T21:43:26+08:00</td>\n",
       "    </tr>\n",
       "    <tr>\n",
       "      <th>1</th>\n",
       "      <td>2459018</td>\n",
       "      <td>673024</td>\n",
       "      <td>c776a3a3a0</td>\n",
       "      <td>API测试部署</td>\n",
       "      <td>ReplicaSet</td>\n",
       "      <td>running</td>\n",
       "      <td></td>\n",
       "      <td>[westDC2]</td>\n",
       "      <td>[RTX 4090]</td>\n",
       "      <td>2025-07-03T20:37:47+08:00</td>\n",
       "    </tr>\n",
       "  </tbody>\n",
       "</table>\n",
       "</div>"
      ],
      "text/plain": [
       "        id     uid        uuid     name deployment_type   status region_sign  \\\n",
       "0  2459239  673024  cdb3170133  API测试部署      ReplicaSet  running               \n",
       "1  2459018  673024  c776a3a3a0  API测试部署      ReplicaSet  running               \n",
       "\n",
       "     dc_list gpu_name_set                 created_at  \n",
       "0  [westDC2]   [RTX 4090]  2025-07-03T21:43:26+08:00  \n",
       "1  [westDC2]   [RTX 4090]  2025-07-03T20:37:47+08:00  "
      ]
     },
     "execution_count": 16,
     "metadata": {},
     "output_type": "execute_result"
    }
   ],
   "source": [
    "pd.DataFrame(client.get_deployments())"
   ]
  },
  {
   "cell_type": "markdown",
   "metadata": {},
   "source": [
    "### 设置调度黑名单"
   ]
  },
  {
   "cell_type": "code",
   "execution_count": 17,
   "metadata": {},
   "outputs": [],
   "source": [
    "# client.set_scheduling_blacklist(\"xxx\", 10, \"test\")"
   ]
  },
  {
   "cell_type": "markdown",
   "metadata": {},
   "source": [
    "### 获取生效中的调度黑名单"
   ]
  },
  {
   "cell_type": "code",
   "execution_count": 18,
   "metadata": {},
   "outputs": [],
   "source": [
    "# client.get_scheduling_blacklist(deployment_uuids[-1])"
   ]
  },
  {
   "cell_type": "markdown",
   "metadata": {},
   "source": [
    "### 获取弹性部署GPU库存"
   ]
  },
  {
   "cell_type": "code",
   "execution_count": 19,
   "metadata": {},
   "outputs": [
    {
     "data": {
      "text/html": [
       "<div>\n",
       "<style scoped>\n",
       "    .dataframe tbody tr th:only-of-type {\n",
       "        vertical-align: middle;\n",
       "    }\n",
       "\n",
       "    .dataframe tbody tr th {\n",
       "        vertical-align: top;\n",
       "    }\n",
       "\n",
       "    .dataframe thead th {\n",
       "        text-align: right;\n",
       "    }\n",
       "</style>\n",
       "<table border=\"1\" class=\"dataframe\">\n",
       "  <thead>\n",
       "    <tr style=\"text-align: right;\">\n",
       "      <th></th>\n",
       "      <th>gpu_type</th>\n",
       "      <th>total_gpu_num</th>\n",
       "      <th>idle_gpu_num</th>\n",
       "      <th>chip_corp</th>\n",
       "      <th>cpu_arch</th>\n",
       "    </tr>\n",
       "  </thead>\n",
       "  <tbody>\n",
       "    <tr>\n",
       "      <th>0</th>\n",
       "      <td>vGPU-32GB</td>\n",
       "      <td>306</td>\n",
       "      <td>131</td>\n",
       "      <td>nvidia</td>\n",
       "      <td>x86</td>\n",
       "    </tr>\n",
       "    <tr>\n",
       "      <th>1</th>\n",
       "      <td>vGPU-48GB</td>\n",
       "      <td>56</td>\n",
       "      <td>6</td>\n",
       "      <td>nvidia</td>\n",
       "      <td>x86</td>\n",
       "    </tr>\n",
       "    <tr>\n",
       "      <th>2</th>\n",
       "      <td>RTX 4090D</td>\n",
       "      <td>300</td>\n",
       "      <td>35</td>\n",
       "      <td>nvidia</td>\n",
       "      <td>x86</td>\n",
       "    </tr>\n",
       "    <tr>\n",
       "      <th>3</th>\n",
       "      <td>RTX 4090</td>\n",
       "      <td>483</td>\n",
       "      <td>68</td>\n",
       "      <td>nvidia</td>\n",
       "      <td>x86</td>\n",
       "    </tr>\n",
       "    <tr>\n",
       "      <th>4</th>\n",
       "      <td>RTX 3090</td>\n",
       "      <td>168</td>\n",
       "      <td>5</td>\n",
       "      <td>nvidia</td>\n",
       "      <td>x86</td>\n",
       "    </tr>\n",
       "    <tr>\n",
       "      <th>5</th>\n",
       "      <td>RTX 3080x2</td>\n",
       "      <td>40</td>\n",
       "      <td>6</td>\n",
       "      <td>nvidia</td>\n",
       "      <td>x86</td>\n",
       "    </tr>\n",
       "  </tbody>\n",
       "</table>\n",
       "</div>"
      ],
      "text/plain": [
       "     gpu_type  total_gpu_num  idle_gpu_num chip_corp cpu_arch\n",
       "0   vGPU-32GB            306           131    nvidia      x86\n",
       "1   vGPU-48GB             56             6    nvidia      x86\n",
       "2   RTX 4090D            300            35    nvidia      x86\n",
       "3    RTX 4090            483            68    nvidia      x86\n",
       "4    RTX 3090            168             5    nvidia      x86\n",
       "5  RTX 3080x2             40             6    nvidia      x86"
      ]
     },
     "execution_count": 19,
     "metadata": {},
     "output_type": "execute_result"
    }
   ],
   "source": [
    "stock = client.get_gpu_stock(region_sign, 117, 128)\n",
    "pd.DataFrame(stock)"
   ]
  },
  {
   "cell_type": "markdown",
   "metadata": {},
   "source": [
    "### 获取已购时长包数据"
   ]
  },
  {
   "cell_type": "code",
   "execution_count": null,
   "metadata": {},
   "outputs": [],
   "source": [
    "get_ddp_overview = client.get_ddp_overview(deployment_uuids[-1])\n",
    "pd.DataFrame(get_ddp_overview)"
   ]
  }
 ],
 "metadata": {
  "kernelspec": {
   "display_name": "yolo",
   "language": "python",
   "name": "python3"
  },
  "language_info": {
   "codemirror_mode": {
    "name": "ipython",
    "version": 3
   },
   "file_extension": ".py",
   "mimetype": "text/x-python",
   "name": "python",
   "nbconvert_exporter": "python",
   "pygments_lexer": "ipython3",
   "version": "3.10.16"
  }
 },
 "nbformat": 4,
 "nbformat_minor": 2
}
